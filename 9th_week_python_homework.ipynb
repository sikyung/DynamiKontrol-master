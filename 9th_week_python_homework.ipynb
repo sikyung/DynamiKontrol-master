{
  "nbformat": 4,
  "nbformat_minor": 0,
  "metadata": {
    "colab": {
      "provenance": [],
      "authorship_tag": "ABX9TyNEoU92Tmec0ZdyFNAuxDww",
      "include_colab_link": true
    },
    "kernelspec": {
      "name": "python3",
      "display_name": "Python 3"
    },
    "language_info": {
      "name": "python"
    }
  },
  "cells": [
    {
      "cell_type": "markdown",
      "metadata": {
        "id": "view-in-github",
        "colab_type": "text"
      },
      "source": [
        "<a href=\"https://colab.research.google.com/github/sikyung/DynamiKontrol-master/blob/master/9th_week_python_homework.ipynb\" target=\"_parent\"><img src=\"https://colab.research.google.com/assets/colab-badge.svg\" alt=\"Open In Colab\"/></a>"
      ]
    },
    {
      "cell_type": "markdown",
      "source": [
        "\n",
        "\n",
        "1부터 5까지의 정수 리스트 만들기\n",
        "\n",
        "\n",
        "\n"
      ],
      "metadata": {
        "id": "_Oz1jJqshh9J"
      }
    },
    {
      "cell_type": "code",
      "source": [
        "number_list = []\n",
        "number_list.append(1)\n",
        "number_list.append(2)\n",
        "number_list.append(3)\n",
        "number_list.append(4)\n",
        "number_list.append(5)"
      ],
      "metadata": {
        "id": "5rwxbvFTg6bF"
      },
      "execution_count": 3,
      "outputs": []
    },
    {
      "cell_type": "code",
      "source": [
        "print(number_list)"
      ],
      "metadata": {
        "colab": {
          "base_uri": "https://localhost:8080/"
        },
        "id": "-YWkIeeuhVwG",
        "outputId": "bd2211c8-b8c3-4f2e-cb1b-709255ac82bc"
      },
      "execution_count": 6,
      "outputs": [
        {
          "output_type": "stream",
          "name": "stdout",
          "text": [
            "[1, 2, 3, 4, 5]\n"
          ]
        }
      ]
    },
    {
      "cell_type": "code",
      "source": [
        "number_list = []\n",
        "for number in range(1,6):\n",
        "  number_list.append(number)"
      ],
      "metadata": {
        "id": "lwZhEvH2hC7W"
      },
      "execution_count": 4,
      "outputs": []
    },
    {
      "cell_type": "code",
      "source": [
        "number_list"
      ],
      "metadata": {
        "colab": {
          "base_uri": "https://localhost:8080/"
        },
        "id": "LihS4Ma3hYlG",
        "outputId": "0d8621df-bddb-40e7-a6bf-62cad2eecd96"
      },
      "execution_count": 7,
      "outputs": [
        {
          "output_type": "execute_result",
          "data": {
            "text/plain": [
              "[1, 2, 3, 4, 5]"
            ]
          },
          "metadata": {},
          "execution_count": 7
        }
      ]
    },
    {
      "cell_type": "code",
      "source": [
        "number_list = list(range(1,6))"
      ],
      "metadata": {
        "id": "UgGTSd9OhQWB"
      },
      "execution_count": 8,
      "outputs": []
    },
    {
      "cell_type": "code",
      "source": [
        "print(number_list)"
      ],
      "metadata": {
        "colab": {
          "base_uri": "https://localhost:8080/"
        },
        "id": "HtDt8UZPhcAY",
        "outputId": "bf7d1903-1a26-483f-bf93-d3c6ee411eb2"
      },
      "execution_count": 9,
      "outputs": [
        {
          "output_type": "stream",
          "name": "stdout",
          "text": [
            "[1, 2, 3, 4, 5]\n"
          ]
        }
      ]
    },
    {
      "cell_type": "markdown",
      "source": [
        "List comprehension"
      ],
      "metadata": {
        "id": "FJersje9hySY"
      }
    },
    {
      "cell_type": "code",
      "source": [
        "number_list = [number for number in range(1,6)]\n",
        "print(number_list)"
      ],
      "metadata": {
        "colab": {
          "base_uri": "https://localhost:8080/"
        },
        "id": "mKFWGsUCh1og",
        "outputId": "da61103b-bbec-49a4-d8fd-56ef0e8135d7"
      },
      "execution_count": 11,
      "outputs": [
        {
          "output_type": "stream",
          "name": "stdout",
          "text": [
            "[1, 2, 3, 4, 5]\n"
          ]
        }
      ]
    },
    {
      "cell_type": "markdown",
      "source": [
        "함수 적용"
      ],
      "metadata": {
        "id": "ixA8tef0iCDI"
      }
    },
    {
      "cell_type": "code",
      "source": [
        "number_list = [number-1 for number in range(1,6)]\n",
        "print(number_list)"
      ],
      "metadata": {
        "colab": {
          "base_uri": "https://localhost:8080/"
        },
        "id": "6GjfzRSpiEih",
        "outputId": "2182bff9-0347-49ca-df42-1b5bcbafac1d"
      },
      "execution_count": 12,
      "outputs": [
        {
          "output_type": "stream",
          "name": "stdout",
          "text": [
            "[0, 1, 2, 3, 4]\n"
          ]
        }
      ]
    },
    {
      "cell_type": "markdown",
      "source": [
        "조건 적용"
      ],
      "metadata": {
        "id": "wzSnikOziMrX"
      }
    },
    {
      "cell_type": "code",
      "source": [
        "a_list = [number for number in range(1,6) if number % 2 == 1]\n",
        "print(a_list)\n",
        "\n",
        "# for 문 적용 시,\n",
        "a_list = []\n",
        "\n",
        "for number in range(1,6):\n",
        "  if number % 2 == 1:\n",
        "    a_list.append(number)\n",
        "print(a_list)"
      ],
      "metadata": {
        "colab": {
          "base_uri": "https://localhost:8080/"
        },
        "id": "QI20pgBsiPpf",
        "outputId": "6ba71265-2a82-49e6-eff0-f3f86fce824f"
      },
      "execution_count": 17,
      "outputs": [
        {
          "output_type": "stream",
          "name": "stdout",
          "text": [
            "[1, 3, 5]\n",
            "[1, 3, 5]\n"
          ]
        }
      ]
    },
    {
      "cell_type": "markdown",
      "source": [
        "List Comprehension 예제"
      ],
      "metadata": {
        "id": "XuBT6T6si-xx"
      }
    },
    {
      "cell_type": "code",
      "source": [
        "sentence = ['I', 'Love', 'Python', 'Soooooo', 'MUCH!!!!!!']\n",
        "\n",
        "# 함수 적용\n",
        "a_exam = [word.lower() for word in sentence]\n",
        "print(a_exam)\n",
        "\n",
        "# 조건 적용\n",
        "b_exam = [word for word in sentence if len(word) > 6]\n",
        "print(b_exam)\n",
        "\n",
        "# 함수 적용하여 튜플로 저장\n",
        "c_exam = [(x,x**2, x**3) for x in range(10)]\n",
        "print(c_exam)"
      ],
      "metadata": {
        "colab": {
          "base_uri": "https://localhost:8080/"
        },
        "id": "BIefdOUNjBw0",
        "outputId": "2e19d2e7-9a9e-42f9-8560-5f62bad6a9a1"
      },
      "execution_count": 18,
      "outputs": [
        {
          "output_type": "stream",
          "name": "stdout",
          "text": [
            "['i', 'love', 'python', 'soooooo', 'much!!!!!!']\n",
            "['Soooooo', 'MUCH!!!!!!']\n",
            "[(0, 0, 0), (1, 1, 1), (2, 4, 8), (3, 9, 27), (4, 16, 64), (5, 25, 125), (6, 36, 216), (7, 49, 343), (8, 64, 512), (9, 81, 729)]\n"
          ]
        }
      ]
    },
    {
      "cell_type": "markdown",
      "source": [
        "List Comprehension - 두 개의 for"
      ],
      "metadata": {
        "id": "q68Ytw_RkDvX"
      }
    },
    {
      "cell_type": "code",
      "source": [
        "rows = range(1,4)\n",
        "cols = range(1,3)\n",
        "\n",
        "for row in rows:\n",
        "  for col in cols:\n",
        "    print(row, col)"
      ],
      "metadata": {
        "colab": {
          "base_uri": "https://localhost:8080/"
        },
        "id": "hM4qIBu3kIJn",
        "outputId": "e7b5538d-b54f-4a12-b43a-30d202578d1f"
      },
      "execution_count": 19,
      "outputs": [
        {
          "output_type": "stream",
          "name": "stdout",
          "text": [
            "1 1\n",
            "1 2\n",
            "2 1\n",
            "2 2\n",
            "3 1\n",
            "3 2\n"
          ]
        }
      ]
    },
    {
      "cell_type": "code",
      "source": [
        "rows = range(1,4)\n",
        "cols = range(1,3)\n",
        "cells = [(row, col) for row in rows for col in cols]\n",
        "\n",
        "for cell in cells:\n",
        "  print(cell)"
      ],
      "metadata": {
        "colab": {
          "base_uri": "https://localhost:8080/"
        },
        "id": "MJyL94AokczC",
        "outputId": "cc9f4301-8f16-4678-ed72-d11dcbca9ab3"
      },
      "execution_count": 21,
      "outputs": [
        {
          "output_type": "stream",
          "name": "stdout",
          "text": [
            "(1, 1)\n",
            "(1, 2)\n",
            "(2, 1)\n",
            "(2, 2)\n",
            "(3, 1)\n",
            "(3, 2)\n"
          ]
        }
      ]
    },
    {
      "cell_type": "code",
      "source": [
        "# 다음은 어떤 결과가?\n",
        "numbers = [(i,j) for i in range(5) for j in range(i)]\n",
        "print(numbers)"
      ],
      "metadata": {
        "colab": {
          "base_uri": "https://localhost:8080/"
        },
        "id": "Co0kbNU-kvYd",
        "outputId": "a9af1701-c98a-4afa-b0a2-cb1de308d42d"
      },
      "execution_count": 24,
      "outputs": [
        {
          "output_type": "stream",
          "name": "stdout",
          "text": [
            "[(1, 0), (2, 0), (2, 1), (3, 0), (3, 1), (3, 2), (4, 0), (4, 1), (4, 2), (4, 3)]\n"
          ]
        }
      ]
    },
    {
      "cell_type": "markdown",
      "source": [
        "Dictionary Comprehension"
      ],
      "metadata": {
        "id": "11PcR-uMlHWl"
      }
    },
    {
      "cell_type": "code",
      "source": [
        "word = 'letters'\n",
        "letter_counts = {letter: word.count(letter) for letter in word}\n",
        "\n",
        "print(letter_counts)"
      ],
      "metadata": {
        "colab": {
          "base_uri": "https://localhost:8080/"
        },
        "id": "W5wrI7zIlMKp",
        "outputId": "48752639-b22b-4667-b880-7d882dffc30e"
      },
      "execution_count": 26,
      "outputs": [
        {
          "output_type": "stream",
          "name": "stdout",
          "text": [
            "{'l': 1, 'e': 2, 't': 2, 'r': 1, 's': 1}\n"
          ]
        }
      ]
    },
    {
      "cell_type": "code",
      "source": [
        "word = 'letters'\n",
        "letter_counts = {letter: word.count(letter) for letter in set(word)}\n",
        "\n",
        "print(letter_counts)"
      ],
      "metadata": {
        "colab": {
          "base_uri": "https://localhost:8080/"
        },
        "id": "d1iEOkkhlZJP",
        "outputId": "c0f2b85d-6ddd-4651-d1ff-25be72520087"
      },
      "execution_count": 27,
      "outputs": [
        {
          "output_type": "stream",
          "name": "stdout",
          "text": [
            "{'e': 2, 's': 1, 't': 2, 'r': 1, 'l': 1}\n"
          ]
        }
      ]
    },
    {
      "cell_type": "markdown",
      "source": [
        "Set Comprehension"
      ],
      "metadata": {
        "id": "TSfVjsCBligf"
      }
    },
    {
      "cell_type": "code",
      "source": [
        "a_set = {number for number in range(1,6) if number % 3 == 1}\n",
        "print(a_set)"
      ],
      "metadata": {
        "colab": {
          "base_uri": "https://localhost:8080/"
        },
        "id": "4FpPn4ESlkvN",
        "outputId": "6bb65273-465f-4be6-fffe-ff592c209fdc"
      },
      "execution_count": 28,
      "outputs": [
        {
          "output_type": "stream",
          "name": "stdout",
          "text": [
            "{1, 4}\n"
          ]
        }
      ]
    },
    {
      "cell_type": "markdown",
      "source": [
        "강의 과제"
      ],
      "metadata": {
        "id": "MWO07KvAls6q"
      }
    },
    {
      "cell_type": "code",
      "source": [
        "d = {\"apple\": 1, \"banana\": 2, \"orange\": 3}\n",
        "\n",
        "inverted_dict = {v:k for k,v in d.items()}\n",
        "\n",
        "print(d)\n",
        "print(inverted_dict)"
      ],
      "metadata": {
        "colab": {
          "base_uri": "https://localhost:8080/"
        },
        "id": "UQXQzzQulurL",
        "outputId": "48054437-140a-4bc4-e857-2ccb29755e55"
      },
      "execution_count": 29,
      "outputs": [
        {
          "output_type": "stream",
          "name": "stdout",
          "text": [
            "{'apple': 1, 'banana': 2, 'orange': 3}\n",
            "{1: 'apple', 2: 'banana', 3: 'orange'}\n"
          ]
        }
      ]
    },
    {
      "cell_type": "code",
      "source": [
        "def is_palindrome(word):\n",
        "    return word == word[::-1]\n",
        "\n",
        "hamlet = \"man\", \"level\", \"madam\"\n",
        "\n",
        "palindromes = {word for word in hamlet if is_palindrome(word.lower())}\n",
        "\n",
        "print(hamlet)\n",
        "print(palindromes)"
      ],
      "metadata": {
        "colab": {
          "base_uri": "https://localhost:8080/"
        },
        "id": "_3dJhjzMl9rY",
        "outputId": "45c52f9e-e9c8-4342-bca4-93674ed2befd"
      },
      "execution_count": 38,
      "outputs": [
        {
          "output_type": "stream",
          "name": "stdout",
          "text": [
            "('man', 'level', 'madam')\n",
            "{'level', 'madam'}\n"
          ]
        }
      ]
    },
    {
      "cell_type": "markdown",
      "source": [
        "Functions - 예제"
      ],
      "metadata": {
        "id": "-b9Yhh96n93W"
      }
    },
    {
      "cell_type": "code",
      "source": [
        "def sum(a,b):\n",
        "  return a+b\n",
        "\n",
        "print(sum(1, 2))\n",
        "print(sum(1.3, 3.1))\n",
        "print(sum('love ', 'python'))"
      ],
      "metadata": {
        "colab": {
          "base_uri": "https://localhost:8080/"
        },
        "id": "1zoTklspoAxf",
        "outputId": "99937c5c-0ee7-4857-a8fe-7c77d9568021"
      },
      "execution_count": 41,
      "outputs": [
        {
          "output_type": "stream",
          "name": "stdout",
          "text": [
            "3\n",
            "4.4\n",
            "love python\n"
          ]
        }
      ]
    },
    {
      "cell_type": "markdown",
      "source": [
        "iteration - zip()"
      ],
      "metadata": {
        "id": "dW-ss192ofLr"
      }
    },
    {
      "cell_type": "code",
      "source": [
        "days = ['Monday', 'Tuesday', 'Wednesday']\n",
        "fruits = ['banana', 'orange', 'peach']\n",
        "drinks = ['coffee', 'tea', 'beer']\n",
        "desserts = ['tiramisu', 'ice cream', 'pie', 'pudding']\n",
        "\n",
        "for day, fruit, drink, dessert in zip(days, fruits, drinks, desserts):\n",
        "  print(day, \":drink\", drink, \"- eat\", fruit, \"- enjoy\", dessert)"
      ],
      "metadata": {
        "colab": {
          "base_uri": "https://localhost:8080/"
        },
        "id": "BiuXUFdoohRN",
        "outputId": "559f6d9f-1e97-4f05-95ee-861838b803c1"
      },
      "execution_count": 42,
      "outputs": [
        {
          "output_type": "stream",
          "name": "stdout",
          "text": [
            "Monday :drink coffee - eat banana - enjoy tiramisu\n",
            "Tuesday :drink tea - eat orange - enjoy ice cream\n",
            "Wednesday :drink beer - eat peach - enjoy pie\n"
          ]
        }
      ]
    },
    {
      "cell_type": "code",
      "source": [
        "english= 'Monday', 'Tuesday', 'Wednesday'\n",
        "french= 'Lundi', 'Mardi', 'Mercredi'\n",
        "list( zip(english, french) )\n",
        "#[('Monday', 'Lundi'), ('Tuesday', 'Mardi'), ('Wednesday', 'Mercredi')]\n",
        "dict( zip(english, french) )\n",
        "#{'Monday': 'Lundi', 'Tuesday': 'Mardi', 'Wednesday': 'Mercredi'}"
      ],
      "metadata": {
        "colab": {
          "base_uri": "https://localhost:8080/"
        },
        "id": "QQzor06jo85m",
        "outputId": "c696a494-8402-4442-cc43-95ac052e5910"
      },
      "execution_count": 43,
      "outputs": [
        {
          "output_type": "execute_result",
          "data": {
            "text/plain": [
              "{'Monday': 'Lundi', 'Tuesday': 'Mardi', 'Wednesday': 'Mercredi'}"
            ]
          },
          "metadata": {},
          "execution_count": 43
        }
      ]
    },
    {
      "cell_type": "markdown",
      "source": [
        "함수 위치 인자"
      ],
      "metadata": {
        "id": "8uxe3gsKpIeQ"
      }
    },
    {
      "cell_type": "code",
      "source": [
        "# wine, entree, dessert를받아서딕셔너리로만들어반환하는함수\n",
        "def menu(wine, entree, dessert):\n",
        "  return {'wine': wine, 'entree': entree, 'dessert': dessert}"
      ],
      "metadata": {
        "id": "Jb1BBW2wpKHM"
      },
      "execution_count": 44,
      "outputs": []
    },
    {
      "cell_type": "code",
      "source": [
        "menu('chardonnay', 'chicken', 'cake')"
      ],
      "metadata": {
        "colab": {
          "base_uri": "https://localhost:8080/"
        },
        "id": "8U8xTCEcpTc5",
        "outputId": "09be0d0d-7da2-460c-b2aa-80cd7df3c99c"
      },
      "execution_count": 46,
      "outputs": [
        {
          "output_type": "execute_result",
          "data": {
            "text/plain": [
              "{'wine': 'chardonnay', 'entree': 'chicken', 'dessert': 'cake'}"
            ]
          },
          "metadata": {},
          "execution_count": 46
        }
      ]
    },
    {
      "cell_type": "markdown",
      "source": [
        "함수 키워드 인자"
      ],
      "metadata": {
        "id": "4RUBBn5CpcHE"
      }
    },
    {
      "cell_type": "code",
      "source": [
        "def menu(wine, entree, dessert):\n",
        "  return {'wine': wine, 'entree': entree, 'dessert': dessert}"
      ],
      "metadata": {
        "id": "ziDDZGY1paaO"
      },
      "execution_count": 47,
      "outputs": []
    },
    {
      "cell_type": "code",
      "source": [
        "menu('frontenac', dessert='flan', entree='fish')"
      ],
      "metadata": {
        "colab": {
          "base_uri": "https://localhost:8080/"
        },
        "id": "TvKpZ9vnpjzT",
        "outputId": "fbaa1ebf-1f68-4cb2-9996-5bddfb855520"
      },
      "execution_count": 48,
      "outputs": [
        {
          "output_type": "execute_result",
          "data": {
            "text/plain": [
              "{'wine': 'frontenac', 'entree': 'fish', 'dessert': 'flan'}"
            ]
          },
          "metadata": {},
          "execution_count": 48
        }
      ]
    },
    {
      "cell_type": "markdown",
      "source": [
        "기본 매개변수 값 정하기"
      ],
      "metadata": {
        "id": "PT1dE7s7pmmv"
      }
    },
    {
      "cell_type": "code",
      "source": [
        "# dessert의 기본값을 정해줌\n",
        "def menu(wine, entree, dessert='pudding'):\n",
        "  return {'wine': wine, 'entree': entree, 'dessert': dessert}"
      ],
      "metadata": {
        "id": "GSgMd8jmps42"
      },
      "execution_count": 51,
      "outputs": []
    },
    {
      "cell_type": "code",
      "source": [
        "menu('chardonnay', 'chicken')"
      ],
      "metadata": {
        "colab": {
          "base_uri": "https://localhost:8080/"
        },
        "id": "4WyzNVa7qSSW",
        "outputId": "778109d4-3b51-4006-beb2-c51104f0c8f6"
      },
      "execution_count": 52,
      "outputs": [
        {
          "output_type": "execute_result",
          "data": {
            "text/plain": [
              "{'wine': 'chardonnay', 'entree': 'chicken', 'dessert': 'pudding'}"
            ]
          },
          "metadata": {},
          "execution_count": 52
        }
      ]
    },
    {
      "cell_type": "code",
      "source": [
        "# dessert 값을 입력한 경우\n",
        "menu('dunkelfelder', 'duck','doughnut')"
      ],
      "metadata": {
        "colab": {
          "base_uri": "https://localhost:8080/"
        },
        "id": "uBMERyQ8qbXn",
        "outputId": "d3fdd7d8-3ef3-424c-db8f-bf9aa7613b22"
      },
      "execution_count": 53,
      "outputs": [
        {
          "output_type": "execute_result",
          "data": {
            "text/plain": [
              "{'wine': 'dunkelfelder', 'entree': 'duck', 'dessert': 'doughnut'}"
            ]
          },
          "metadata": {},
          "execution_count": 53
        }
      ]
    },
    {
      "cell_type": "code",
      "source": [
        "def menu(price, wine='chardonnay', entree='chicken',dessert='pudding'):\n",
        "  return {'price': price, 'wine': wine, 'entree': entree, 'dessert': dessert}"
      ],
      "metadata": {
        "id": "-KoWPI9Nqv09"
      },
      "execution_count": 55,
      "outputs": []
    },
    {
      "cell_type": "markdown",
      "source": [
        "가능한 경우"
      ],
      "metadata": {
        "id": "MMLj6kOCsY1K"
      }
    },
    {
      "cell_type": "code",
      "source": [
        "# menu(100)\n",
        "# menu(price=100)\n",
        "# menu(price=120, entree='beef')\n",
        "# menu(dessert='bagel', price=110)\n",
        "menu('eighty', 'saint-pierre', 'fish')\n",
        "# menu('hundred', wine='saint-pierre')"
      ],
      "metadata": {
        "colab": {
          "base_uri": "https://localhost:8080/"
        },
        "id": "0GvP_rNprC9U",
        "outputId": "0b79ce97-ea23-47d8-e078-e80ffa813796"
      },
      "execution_count": 66,
      "outputs": [
        {
          "output_type": "execute_result",
          "data": {
            "text/plain": [
              "{'price': 'eighty',\n",
              " 'wine': 'saint-pierre',\n",
              " 'entree': 'fish',\n",
              " 'dessert': 'pudding'}"
            ]
          },
          "metadata": {},
          "execution_count": 66
        }
      ]
    },
    {
      "cell_type": "markdown",
      "source": [
        "불가능한 경우"
      ],
      "metadata": {
        "id": "_rA5yZ4RsbqT"
      }
    },
    {
      "cell_type": "code",
      "source": [
        "menu()# price에 인자가 할당이 안됨\n",
        "menu(price=100,'saint-pierre') # 키워드 인자 할당 후,위치 인자\n",
        "menu(100,price = 120) #같은 변수에 두 번 할당\n",
        "menu(main=‘cream pasta’) # 정의되지 않은 매개 변수"
      ],
      "metadata": {
        "colab": {
          "base_uri": "https://localhost:8080/",
          "height": 133
        },
        "id": "6oRU39XsseL4",
        "outputId": "28d7ef16-80a5-487d-a258-6168613ebc1b"
      },
      "execution_count": 67,
      "outputs": [
        {
          "output_type": "error",
          "ename": "SyntaxError",
          "evalue": "ignored",
          "traceback": [
            "\u001b[0;36m  File \u001b[0;32m\"<ipython-input-67-a363efaf499e>\"\u001b[0;36m, line \u001b[0;32m4\u001b[0m\n\u001b[0;31m    menu(main=‘cream pasta’) # 정의되지 않은 매개 변수\u001b[0m\n\u001b[0m              ^\u001b[0m\n\u001b[0;31mSyntaxError\u001b[0m\u001b[0;31m:\u001b[0m invalid character '‘' (U+2018)\n"
          ]
        }
      ]
    },
    {
      "cell_type": "markdown",
      "source": [
        "docstring"
      ],
      "metadata": {
        "id": "0CcuhhXXs1TY"
      }
    },
    {
      "cell_type": "code",
      "source": [
        "def echo(anything):\n",
        "  'echo returns its input argument'\n",
        "  return anything"
      ],
      "metadata": {
        "id": "YlNpm1Z5s3Oj"
      },
      "execution_count": 69,
      "outputs": []
    },
    {
      "cell_type": "code",
      "source": [
        "def print_if_true(thing, check):\n",
        "  \"\"\"\n",
        "  Prints the first argument if a second argument is true.\n",
        "  The operation is:\n",
        "  1. Check whether the *second* argument is true.\n",
        "  2. If it is, print the *first* argument.\n",
        "  \"\"\"\n",
        "  if check:\n",
        "    print(thing)"
      ],
      "metadata": {
        "id": "c3g3PN2js5Kp"
      },
      "execution_count": 71,
      "outputs": []
    },
    {
      "cell_type": "code",
      "source": [
        "help(echo)"
      ],
      "metadata": {
        "colab": {
          "base_uri": "https://localhost:8080/"
        },
        "id": "gpgkR2putCZK",
        "outputId": "1eeba79a-4469-4100-ce24-64927894b75e"
      },
      "execution_count": 72,
      "outputs": [
        {
          "output_type": "stream",
          "name": "stdout",
          "text": [
            "Help on function echo in module __main__:\n",
            "\n",
            "echo(anything)\n",
            "    echo returns its input argument\n",
            "\n"
          ]
        }
      ]
    },
    {
      "cell_type": "code",
      "source": [
        "print(echo.__doc__)"
      ],
      "metadata": {
        "colab": {
          "base_uri": "https://localhost:8080/"
        },
        "id": "1hz0wSjPtP5C",
        "outputId": "3040f99e-5884-420a-9eb7-b90f0015c260"
      },
      "execution_count": 73,
      "outputs": [
        {
          "output_type": "stream",
          "name": "stdout",
          "text": [
            "echo returns its input argument\n"
          ]
        }
      ]
    }
  ]
}